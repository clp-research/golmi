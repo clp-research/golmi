{
 "cells": [
  {
   "cell_type": "code",
   "execution_count": 9,
   "outputs": [],
   "source": [
    "% matplotlib inline"
   ],
   "metadata": {
    "collapsed": false,
    "pycharm": {
     "name": "#%%\n"
    }
   }
  },
  {
   "cell_type": "code",
   "execution_count": 76,
   "outputs": [],
   "source": [
    "import matplotlib.pyplot as plt"
   ],
   "metadata": {
    "collapsed": false,
    "pycharm": {
     "name": "#%%\n"
    }
   }
  },
  {
   "cell_type": "code",
   "execution_count": 3,
   "metadata": {},
   "outputs": [
    {
     "name": "stdout",
     "output_type": "stream",
     "text": [
      "11 25\n"
     ]
    }
   ],
   "source": [
    "# properties\n",
    "\n",
    "colors = 8\n",
    "shapes = 12\n",
    "locs = 9\n",
    "\n",
    "# todo: add rotation\n",
    "\n",
    "props = colors + shapes + locs\n",
    "configs = colors * shapes * locs\n",
    "print(props, configs)"
   ]
  },
  {
   "cell_type": "code",
   "execution_count": 2,
   "metadata": {},
   "outputs": [
    {
     "name": "stdout",
     "output_type": "stream",
     "text": [
      "situations(n_objects=1):                         864\n",
      "situations(n_objects=2):                     746,496\n",
      "situations(n_objects=3):                 644,972,544\n",
      "situations(n_objects=4):             557,256,278,016\n",
      "situations(n_objects=5):         481,469,424,205,824\n",
      "situations(n_objects=6):     415,989,582,513,831,936\n",
      "situations(n_objects=7): 359,414,999,291,950,792,704\n"
     ]
    }
   ],
   "source": [
    "import math\n",
    "\n",
    "for n in range(1, 8):\n",
    "    print(\"situations(n_objects={}): {:>27,}\".format(n, int(math.pow(configs, n))))"
   ]
  },
  {
   "cell_type": "code",
   "execution_count": 3,
   "outputs": [],
   "source": [
    "import json\n",
    "\n",
    "task_file_path = \"../tests/generated/tasks.json\"\n",
    "\n",
    "\n",
    "def load_tasks():\n",
    "    with open(task_file_path) as f:\n",
    "        return json.load(f)"
   ],
   "metadata": {
    "collapsed": false,
    "pycharm": {
     "name": "#%%\n"
    }
   }
  },
  {
   "cell_type": "code",
   "execution_count": 6,
   "outputs": [],
   "source": [
    "tasks = load_tasks()"
   ],
   "metadata": {
    "collapsed": false,
    "pycharm": {
     "name": "#%%\n"
    }
   }
  },
  {
   "cell_type": "code",
   "execution_count": 28,
   "outputs": [],
   "source": [
    "import collections\n",
    "\n",
    "\n",
    "# Do we have a balanced distribution over property values?\n",
    "# Count prop value frequencies\n",
    "# Can also be seen as distribution of X\n",
    "def count_prop_val_freq(tasks):\n",
    "    freqs = collections.defaultdict(int)\n",
    "    for task in tasks:\n",
    "        for piece in task[\"pieces\"]:\n",
    "            freqs[piece[\"type\"]] = freqs[piece[\"type\"]] + 1\n",
    "            freqs[piece[\"color\"]] = freqs[piece[\"color\"]] + 1\n",
    "            freqs[piece[\"posRelBoard\"]] = freqs[piece[\"posRelBoard\"]] + 1\n",
    "    return freqs\n",
    "\n",
    "\n",
    "props_value_freqs = count_prop_val_freq(tasks)"
   ],
   "metadata": {
    "collapsed": false,
    "pycharm": {
     "name": "#%%\n"
    }
   }
  },
  {
   "cell_type": "code",
   "execution_count": 33,
   "outputs": [],
   "source": [
    "import pandas as pd\n",
    "\n",
    "\n",
    "def prop_val_to_prop(prop_val):\n",
    "    if prop_val in [\"red\", \"orange\", \"yellow\", \"green\", \"blue\", \"purple\", \"saddlebrown\", \"grey\"]:\n",
    "        return \"color\"\n",
    "    if prop_val in [\"F\", \"I\", \"L\", \"N\", \"P\", \"T\", \"U\", \"V\", \"W\", \"X\", \"Y\", \"Z\"]:\n",
    "        return \"shape\"\n",
    "    return \"posRelBoard\"\n",
    "\n",
    "\n",
    "# easier to consume for pandas as list of dicts\n",
    "df_props = pd.DataFrame.from_records(\n",
    "    [{\"PropVal\": k, \"Count\": v, \"Prop\": prop_val_to_prop(k)} for k, v in props_value_freqs.items()])"
   ],
   "metadata": {
    "collapsed": false,
    "pycharm": {
     "name": "#%%\n"
    }
   }
  },
  {
   "cell_type": "code",
   "execution_count": 40,
   "outputs": [
    {
     "name": "stderr",
     "output_type": "stream",
     "text": [
      "/Users/philippsadler/Opts/Apps/anaconda3/envs/golmi/lib/python3.9/site-packages/seaborn/categorical.py:3808: UserWarning: Setting `sharey=False` with `color=None` may cause different levels of the `y` variable to share colors. This will change in a future version.\n",
      "  warnings.warn(msg.format(\"sharey\", \"y\"), UserWarning)\n"
     ]
    },
    {
     "data": {
      "text/plain": "<seaborn.axisgrid.FacetGrid at 0x7f9761556970>"
     },
     "execution_count": 40,
     "metadata": {},
     "output_type": "execute_result"
    },
    {
     "data": {
      "text/plain": "<Figure size 1080x360 with 3 Axes>",
      "image/png": "[encoded data removed]"
     },
     "metadata": {
      "needs_background": "light"
     },
     "output_type": "display_data"
    }
   ],
   "source": [
    "import seaborn as sns\n",
    "\n",
    "# easier to plot if pandas frame\n",
    "sns.catplot(x=\"Count\", y=\"PropVal\", col=\"Prop\", kind=\"bar\", data=df_props, orient=\"h\", sharey=False)"
   ],
   "metadata": {
    "collapsed": false,
    "pycharm": {
     "name": "#%%\n"
    }
   }
  },
  {
   "cell_type": "markdown",
   "source": [
    "Note: The property value distribution looks line. There are not really outliers. The locations are disbalanced, because we divide the areas by 3, so that the corner become bigger."
   ],
   "metadata": {
    "collapsed": false,
    "pycharm": {
     "name": "#%% md\n"
    }
   }
  },
  {
   "cell_type": "code",
   "execution_count": 41,
   "outputs": [
    {
     "name": "stdout",
     "output_type": "stream",
     "text": [
      "571 0.6608796296296297\n"
     ]
    }
   ],
   "source": [
    "# Do we have a balanced distribution over selected targets?\n",
    "# Count unique targets (based on props)\n",
    "# Do we have targets for all possible (864) configs? Or at least an even amount over the existing ones?\n",
    "# Can also be seen as distribution of X\n",
    "def target_prop_val_freq(tasks):\n",
    "    freqs = collections.defaultdict(int)\n",
    "    for task in tasks:\n",
    "        piece = task[\"target\"]\n",
    "        freqs[(piece[\"type\"], piece[\"color\"], piece[\"posRelBoard\"])] += 1\n",
    "    return freqs\n",
    "\n",
    "\n",
    "target_freqs = target_prop_val_freq(tasks)\n",
    "print(len(target_freqs), len(target_freqs) / float(864))"
   ],
   "metadata": {
    "collapsed": false,
    "pycharm": {
     "name": "#%%\n"
    }
   }
  },
  {
   "cell_type": "markdown",
   "source": [
    "Note: We only have 66% individual targets on 1,000 tasks. This might actually be an issue. We would rather like to have a factor of 10 more. Thus we rather need 10,000 tasks."
   ],
   "metadata": {
    "collapsed": false,
    "pycharm": {
     "name": "#%% md\n"
    }
   }
  },
  {
   "cell_type": "code",
   "execution_count": 43,
   "outputs": [],
   "source": [
    "# easier to consume for pandas as list of dicts\n",
    "df_target_props = pd.DataFrame.from_records(\n",
    "    [{\"Config\": idx, \"Count\": v} for idx, (k, v) in enumerate(target_freqs.items())])"
   ],
   "metadata": {
    "collapsed": false,
    "pycharm": {
     "name": "#%%\n"
    }
   }
  },
  {
   "cell_type": "code",
   "execution_count": 46,
   "outputs": [
    {
     "data": {
      "text/plain": "<AxesSubplot:xlabel='Config', ylabel='Count'>"
     },
     "execution_count": 46,
     "metadata": {},
     "output_type": "execute_result"
    },
    {
     "data": {
      "text/plain": "<Figure size 432x288 with 1 Axes>",
      "image/png": "[encoded data removed]"
     },
     "metadata": {
      "needs_background": "light"
     },
     "output_type": "display_data"
    }
   ],
   "source": [
    "# easier to plot if pandas frame\n",
    "sns.barplot(x=\"Config\", y=\"Count\", data=df_target_props)"
   ],
   "metadata": {
    "collapsed": false,
    "pycharm": {
     "name": "#%%\n"
    }
   }
  },
  {
   "cell_type": "code",
   "execution_count": 49,
   "outputs": [
    {
     "data": {
      "text/plain": "<AxesSubplot:xlabel='Count', ylabel='Count'>"
     },
     "execution_count": 49,
     "metadata": {},
     "output_type": "execute_result"
    },
    {
     "data": {
      "text/plain": "<Figure size 432x288 with 1 Axes>",
      "image/png": "[encoded data removed]"
     },
     "metadata": {
      "needs_background": "light"
     },
     "output_type": "display_data"
    }
   ],
   "source": [
    "sns.histplot(df_target_props.Count, kde=True)"
   ],
   "metadata": {
    "collapsed": false,
    "pycharm": {
     "name": "#%%\n"
    }
   }
  },
  {
   "cell_type": "code",
   "execution_count": 60,
   "metadata": {},
   "outputs": [
    {
     "name": "stdout",
     "output_type": "stream",
     "text": [
      "7 0.007\n"
     ]
    }
   ],
   "source": [
    "# For a single situation we still have multiple refs\n",
    "# How many distinct refs (based on included props) do we have on average?\n",
    "# Can also be seen as distribution of Y (label frequencies)\n",
    "def refs_uniq_freq(tasks):\n",
    "    freqs = []\n",
    "    for task in tasks:\n",
    "        task_refs = set()\n",
    "        for ref in task[\"refs\"]:\n",
    "            # order should not matter (we sort before)\n",
    "            props = list(ref[\"props\"].keys())\n",
    "            props.sort()\n",
    "            task_refs.add(tuple(props))  # list is not hashable, but tuple is\n",
    "        freqs.append(task_refs)\n",
    "    return freqs\n",
    "\n",
    "\n",
    "refs_uniq_freqs = refs_uniq_freq(tasks)\n",
    "total_uniq_refs = set([r for refs in refs_uniq_freqs for r in refs])\n",
    "print(len(total_uniq_refs), len(total_uniq_refs) / float(7))"
   ]
  },
  {
   "cell_type": "code",
   "execution_count": 61,
   "outputs": [
    {
     "data": {
      "text/plain": "{('color',),\n ('color', 'posRelBoard'),\n ('color', 'posRelBoard', 'shape'),\n ('color', 'shape'),\n ('posRelBoard',),\n ('posRelBoard', 'shape'),\n ('shape',)}"
     },
     "execution_count": 61,
     "metadata": {},
     "output_type": "execute_result"
    }
   ],
   "source": [
    "total_uniq_refs"
   ],
   "metadata": {
    "collapsed": false,
    "pycharm": {
     "name": "#%%\n"
    }
   }
  },
  {
   "cell_type": "markdown",
   "source": [
    "Note: We actually see all output scenarios here. The order of properties is not important for the language template."
   ],
   "metadata": {
    "collapsed": false,
    "pycharm": {
     "name": "#%% md\n"
    }
   }
  },
  {
   "cell_type": "code",
   "execution_count": 65,
   "outputs": [],
   "source": [
    "df_refs_uniq = pd.DataFrame.from_records(\n",
    "    [{\"Situation\": idx, \"Count\": len(refs)} for idx, refs in enumerate(refs_uniq_freqs)])"
   ],
   "metadata": {
    "collapsed": false,
    "pycharm": {
     "name": "#%%\n"
    }
   }
  },
  {
   "cell_type": "code",
   "execution_count": 63,
   "outputs": [
    {
     "data": {
      "text/plain": "<AxesSubplot:xlabel='Situation', ylabel='Count'>"
     },
     "execution_count": 63,
     "metadata": {},
     "output_type": "execute_result"
    },
    {
     "data": {
      "text/plain": "<Figure size 432x288 with 1 Axes>",
      "image/png": "[encoded data removed]"
     },
     "metadata": {
      "needs_background": "light"
     },
     "output_type": "display_data"
    }
   ],
   "source": [
    "sns.barplot(x=\"Situation\", y=\"Count\", data=df_refs_uniq)"
   ],
   "metadata": {
    "collapsed": false,
    "pycharm": {
     "name": "#%%\n"
    }
   }
  },
  {
   "cell_type": "code",
   "execution_count": 64,
   "outputs": [
    {
     "data": {
      "text/plain": "<AxesSubplot:xlabel='Count', ylabel='Count'>"
     },
     "execution_count": 64,
     "metadata": {},
     "output_type": "execute_result"
    },
    {
     "data": {
      "text/plain": "<Figure size 432x288 with 1 Axes>",
      "image/png": "[encoded data removed]"
     },
     "metadata": {
      "needs_background": "light"
     },
     "output_type": "display_data"
    }
   ],
   "source": [
    "sns.histplot(df_refs_uniq.Count, kde=True)"
   ],
   "metadata": {
    "collapsed": false,
    "pycharm": {
     "name": "#%%\n"
    }
   }
  },
  {
   "cell_type": "markdown",
   "source": [
    "Looks like we have a lot situations where 3 or 4 refs are applicable. Since there are 7 scenarios a model have around 40-60% chance to be correct. So we want to see something higher than 60% to allow for something to be learnt."
   ],
   "metadata": {
    "collapsed": false,
    "pycharm": {
     "name": "#%% md\n"
    }
   }
  },
  {
   "cell_type": "code",
   "execution_count": 90,
   "outputs": [],
   "source": [
    "# The scenarios to distinguish a piece is a fix number (7):\n",
    "# - by all properties together (1)\n",
    "# - by one specific property of color, shape and position (3)\n",
    "# - by a pair of properties color, shape and position (3) (because order does not matter here)\n",
    "# What is the frequency for each scenario? (Note: A sample may include multiple scenarios based on the props order)\n",
    "# Here we only count the distinct scenarios.\n",
    "# Can also be seen as distribution of Y (label frequencies)\n",
    "def scenario_uniq_freq(tasks):\n",
    "    freqs = collections.defaultdict(int)\n",
    "    for task in tasks:\n",
    "        task_refs = set()\n",
    "        for ref in task[\"refs\"]:\n",
    "            # order should not matter (we sort before)\n",
    "            props = list(ref[\"props\"].keys())\n",
    "            props.sort()\n",
    "            task_refs.add(tuple(props)) # list is not hashable, but tuple is\n",
    "        for tref in task_refs:\n",
    "            freqs[tref] += 1  # we want to count a scenario only once\n",
    "    return freqs\n",
    "\n",
    "\n",
    "scenario_freqs = scenario_uniq_freq(tasks)"
   ],
   "metadata": {
    "collapsed": false,
    "pycharm": {
     "name": "#%%\n"
    }
   }
  },
  {
   "cell_type": "code",
   "execution_count": 92,
   "outputs": [],
   "source": [
    "df_scenario_freqs = pd.DataFrame.from_records(\n",
    "    [{\"Scenario\": idx, \"Count\": v, \"Props\": k} for idx, (k,v) in enumerate(scenario_freqs.items())])"
   ],
   "metadata": {
    "collapsed": false,
    "pycharm": {
     "name": "#%%\n"
    }
   }
  },
  {
   "cell_type": "code",
   "execution_count": 97,
   "outputs": [
    {
     "name": "stdout",
     "output_type": "stream",
     "text": [
      "0 ('shape',) 713\n",
      "1 ('color', 'posRelBoard') 532\n",
      "2 ('color', 'shape') 544\n",
      "3 ('posRelBoard',) 715\n",
      "4 ('posRelBoard', 'shape') 461\n",
      "5 ('color',) 599\n",
      "6 ('color', 'posRelBoard', 'shape') 33\n"
     ]
    }
   ],
   "source": [
    "for idx, (k,v) in enumerate(scenario_freqs.items()):\n",
    "    print(idx, k,v )"
   ],
   "metadata": {
    "collapsed": false,
    "pycharm": {
     "name": "#%%\n"
    }
   }
  },
  {
   "cell_type": "code",
   "execution_count": 93,
   "outputs": [
    {
     "data": {
      "text/plain": "<Figure size 432x288 with 1 Axes>",
      "image/png": "[encoded data removed]"
     },
     "metadata": {
      "needs_background": "light"
     },
     "output_type": "display_data"
    }
   ],
   "source": [
    "ax = sns.barplot(x=\"Scenario\", y=\"Count\", data=df_scenario_freqs)"
   ],
   "metadata": {
    "collapsed": false,
    "pycharm": {
     "name": "#%%\n"
    }
   }
  }
 ],
 "metadata": {
  "kernelspec": {
   "display_name": "Python 3 (ipykernel)",
   "language": "python",
   "name": "python3"
  },
  "language_info": {
   "codemirror_mode": {
    "name": "ipython",
    "version": 3
   },
   "file_extension": ".py",
   "mimetype": "text/x-python",
   "name": "python",
   "nbconvert_exporter": "python",
   "pygments_lexer": "ipython3",
   "version": "3.9.7"
  }
 },
 "nbformat": 4,
 "nbformat_minor": 1
}
{
 "cells": [
  {
   "cell_type": "code",
   "execution_count": 2,
   "metadata": {},
   "outputs": [
    {
     "name": "stdout",
     "output_type": "stream",
     "text": [
      "864\n"
     ]
    }
   ],
   "source": [
    "# properties\n",
    "colors = 8\n",
    "shapes = 12\n",
    "locs = 9\n",
    "\n",
    "configs = colors*shapes*locs\n",
    "print(configs)"
   ]
  },
  {
   "cell_type": "code",
   "execution_count": 20,
   "metadata": {},
   "outputs": [
    {
     "name": "stdout",
     "output_type": "stream",
     "text": [
      "situations(n_objects=1):                         864\n",
      "situations(n_objects=2):                     746,496\n",
      "situations(n_objects=3):                 644,972,544\n",
      "situations(n_objects=4):             557,256,278,016\n",
      "situations(n_objects=5):         481,469,424,205,824\n",
      "situations(n_objects=6):     415,989,582,513,831,936\n",
      "situations(n_objects=7): 359,414,999,291,950,792,704\n"
     ]
    }
   ],
   "source": [
    "import math\n",
    "for n in range(1,8):\n",
    "    print(\"situations(n_objects={}): {:>27,}\".format(n, int(math.pow(configs,n))))"
   ]
  },
  {
   "cell_type": "code",
   "execution_count": 19,
   "metadata": {},
   "outputs": [],
   "source": [
    "# For a single situation we still have multiple refs ! How many refs do we have on average?\n",
    "\n"
   ]
  }
 ],
 "metadata": {
  "kernelspec": {
   "display_name": "Python 3 (ipykernel)",
   "language": "python",
   "name": "python3"
  },
  "language_info": {
   "codemirror_mode": {
    "name": "ipython",
    "version": 3
   },
   "file_extension": ".py",
   "mimetype": "text/x-python",
   "name": "python",
   "nbconvert_exporter": "python",
   "pygments_lexer": "ipython3",
   "version": "3.9.7"
  }
 },
 "nbformat": 4,
 "nbformat_minor": 1
}

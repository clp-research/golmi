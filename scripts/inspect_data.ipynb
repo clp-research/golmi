{
 "cells": [
  {
   "cell_type": "code",
   "execution_count": 9,
   "outputs": [],
   "source": [
    "% matplotlib inline"
   ],
   "metadata": {
    "collapsed": false,
    "pycharm": {
     "name": "#%%\n"
    }
   }
  },
  {
   "cell_type": "code",
   "execution_count": 5,
   "metadata": {},
   "outputs": [
    {
     "name": "stdout",
     "output_type": "stream",
     "text": [
      "29 864\n"
     ]
    }
   ],
   "source": [
    "# properties\n",
    "\n",
    "colors = 8\n",
    "shapes = 12\n",
    "locs = 9\n",
    "\n",
    "props = colors + shapes + locs\n",
    "configs = colors * shapes * locs\n",
    "print(props, configs)"
   ]
  },
  {
   "cell_type": "code",
   "execution_count": 2,
   "metadata": {},
   "outputs": [
    {
     "name": "stdout",
     "output_type": "stream",
     "text": [
      "situations(n_objects=1):                         864\n",
      "situations(n_objects=2):                     746,496\n",
      "situations(n_objects=3):                 644,972,544\n",
      "situations(n_objects=4):             557,256,278,016\n",
      "situations(n_objects=5):         481,469,424,205,824\n",
      "situations(n_objects=6):     415,989,582,513,831,936\n",
      "situations(n_objects=7): 359,414,999,291,950,792,704\n"
     ]
    }
   ],
   "source": [
    "import math\n",
    "\n",
    "for n in range(1, 8):\n",
    "    print(\"situations(n_objects={}): {:>27,}\".format(n, int(math.pow(configs, n))))"
   ]
  },
  {
   "cell_type": "code",
   "execution_count": 3,
   "outputs": [],
   "source": [
    "import json\n",
    "\n",
    "task_file_path = \"../tests/generated/tasks.json\"\n",
    "\n",
    "\n",
    "def load_tasks():\n",
    "    with open(task_file_path) as f:\n",
    "        return json.load(f)"
   ],
   "metadata": {
    "collapsed": false,
    "pycharm": {
     "name": "#%%\n"
    }
   }
  },
  {
   "cell_type": "code",
   "execution_count": 6,
   "outputs": [],
   "source": [
    "tasks = load_tasks()"
   ],
   "metadata": {
    "collapsed": false,
    "pycharm": {
     "name": "#%%\n"
    }
   }
  },
  {
   "cell_type": "code",
   "execution_count": 28,
   "outputs": [],
   "source": [
    "import collections\n",
    "\n",
    "\n",
    "# Do we have a balanced distribution over property values?\n",
    "# Count prop value frequencies\n",
    "# Can also be seen as distribution of X\n",
    "def count_prop_val_freq(tasks):\n",
    "    freqs = collections.defaultdict(int)\n",
    "    for task in tasks:\n",
    "        for piece in task[\"pieces\"]:\n",
    "            freqs[piece[\"type\"]] = freqs[piece[\"type\"]] + 1\n",
    "            freqs[piece[\"color\"]] = freqs[piece[\"color\"]] + 1\n",
    "            freqs[piece[\"posRelBoard\"]] = freqs[piece[\"posRelBoard\"]] + 1\n",
    "    return freqs\n",
    "\n",
    "\n",
    "props_value_freqs = count_prop_val_freq(tasks)"
   ],
   "metadata": {
    "collapsed": false,
    "pycharm": {
     "name": "#%%\n"
    }
   }
  },
  {
   "cell_type": "code",
   "execution_count": 33,
   "outputs": [],
   "source": [
    "import pandas as pd\n",
    "\n",
    "\n",
    "def prop_val_to_prop(prop_val):\n",
    "    if prop_val in [\"red\", \"orange\", \"yellow\", \"green\", \"blue\", \"purple\", \"saddlebrown\", \"grey\"]:\n",
    "        return \"color\"\n",
    "    if prop_val in [\"F\", \"I\", \"L\", \"N\", \"P\", \"T\", \"U\", \"V\", \"W\", \"X\", \"Y\", \"Z\"]:\n",
    "        return \"shape\"\n",
    "    return \"posRelBoard\"\n",
    "\n",
    "\n",
    "# easier to consume for pandas as list of dicts\n",
    "df_props = pd.DataFrame.from_records(\n",
    "    [{\"PropVal\": k, \"Count\": v, \"Prop\": prop_val_to_prop(k)} for k, v in props_value_freqs.items()])"
   ],
   "metadata": {
    "collapsed": false,
    "pycharm": {
     "name": "#%%\n"
    }
   }
  },
  {
   "cell_type": "code",
   "execution_count": 40,
   "outputs": [
    {
     "name": "stderr",
     "output_type": "stream",
     "text": [
      "/Users/philippsadler/Opts/Apps/anaconda3/envs/golmi/lib/python3.9/site-packages/seaborn/categorical.py:3808: UserWarning: Setting `sharey=False` with `color=None` may cause different levels of the `y` variable to share colors. This will change in a future version.\n",
      "  warnings.warn(msg.format(\"sharey\", \"y\"), UserWarning)\n"
     ]
    },
    {
     "data": {
      "text/plain": "<seaborn.axisgrid.FacetGrid at 0x7f9761556970>"
     },
     "execution_count": 40,
     "metadata": {},
     "output_type": "execute_result"
    },
    {
     "data": {
      "text/plain": "<Figure size 1080x360 with 3 Axes>",
      "image/png": "[encoded data removed]"
     },
     "metadata": {
      "needs_background": "light"
     },
     "output_type": "display_data"
    }
   ],
   "source": [
    "import seaborn as sns\n",
    "# easier to plot if pandas frame\n",
    "sns.catplot(x=\"Count\", y=\"PropVal\", col=\"Prop\", kind=\"bar\", data=df_props, orient=\"h\", sharey=False)"
   ],
   "metadata": {
    "collapsed": false,
    "pycharm": {
     "name": "#%%\n"
    }
   }
  },
  {
   "cell_type": "code",
   "execution_count": null,
   "outputs": [],
   "source": [
    "# Do we have a balanced distribution over selected targets?\n",
    "# Count unique targets (based on props)\n",
    "# Do we have targets for all possible (864) configs? Or at least an even amount over the existing ones?\n",
    "# Can also be seen as distribution of X\n"
   ],
   "metadata": {
    "collapsed": false,
    "pycharm": {
     "name": "#%%\n"
    }
   }
  },
  {
   "cell_type": "code",
   "execution_count": 19,
   "metadata": {},
   "outputs": [],
   "source": [
    "# For a single situation we still have multiple refs\n",
    "# How many distinct refs (based on included props) do we have on average?\n",
    "# Can also be seen as distribution of Y (label frequencies)\n"
   ]
  },
  {
   "cell_type": "code",
   "execution_count": null,
   "outputs": [],
   "source": [
    "# The scenarios to distinguish a piece is a fix number (10):\n",
    "# - by all properties together (1)\n",
    "# - by one specific property of color, shape and position (3)\n",
    "# - by a pair of properties color, shape and position (6)\n",
    "# What is the frequency for each scenario? (Note: A sample may include multiple scenarios based on the props order)\n",
    "# Here we only count the distinct scenarios.\n",
    "# Can also be seen as distribution of Y (label frequencies)\n"
   ],
   "metadata": {
    "collapsed": false,
    "pycharm": {
     "name": "#%%\n"
    }
   }
  }
 ],
 "metadata": {
  "kernelspec": {
   "display_name": "Python 3 (ipykernel)",
   "language": "python",
   "name": "python3"
  },
  "language_info": {
   "codemirror_mode": {
    "name": "ipython",
    "version": 3
   },
   "file_extension": ".py",
   "mimetype": "text/x-python",
   "name": "python",
   "nbconvert_exporter": "python",
   "pygments_lexer": "ipython3",
   "version": "3.9.7"
  }
 },
 "nbformat": 4,
 "nbformat_minor": 1
}
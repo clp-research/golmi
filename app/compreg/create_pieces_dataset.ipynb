{
 "cells": [
  {
   "cell_type": "code",
   "execution_count": 3,
   "metadata": {
    "collapsed": true,
    "pycharm": {
     "name": "#%%\n"
    }
   },
   "outputs": [],
   "source": [
    "import matplotlib.pyplot as plt\n",
    "\n",
    "from model.pentomino import PieceConfig, RelPositions, Shapes, Colors, Board\n",
    "\n",
    "\n",
    "def sample_piece(color, shape):\n",
    "    target = PieceConfig(color, shape, RelPositions.CENTER)\n",
    "    board = Board(15, 15)  # we need at least size of 3 * 5\n",
    "    board.add_piece_from_config(target)\n",
    "    arr = board.to_rgb_array()\n",
    "    center = arr[5:10, 5:10]\n",
    "    return center\n",
    "\n",
    "\n",
    "def sample_train(color, shape):\n",
    "    filename = f\"{shape.value_name}_{color.value_name}.png\"\n",
    "    plt.axis(\"off\")\n",
    "    plt.imshow(sample_piece(color, shape))\n",
    "    plt.savefig(f\"data/single/train/{filename}\", bbox_inches='tight')\n",
    "    return {\"color\": color.name, \"shape\": shape.name, \"image\": filename}\n",
    "\n",
    "\n",
    "def sample_test(color, shape):\n",
    "    filename = f\"{shape.value_name}_{color.value_name}.png\"\n",
    "    plt.axis(\"off\")\n",
    "    plt.imshow(sample_piece(color, shape))\n",
    "    plt.savefig(f\"data/single/test/{filename}\", bbox_inches='tight')\n",
    "    return {\"color\": color.name, \"shape\": shape.name, \"image\": filename}"
   ]
  },
  {
   "cell_type": "code",
   "execution_count": 5,
   "outputs": [
    {
     "data": {
      "text/plain": "<Figure size 432x288 with 1 Axes>",
      "image/png": "[encoded data removed]"
     },
     "metadata": {
      "needs_background": "light"
     },
     "output_type": "display_data"
    }
   ],
   "source": [
    "# we choose 4 shapes and 4 colors;\n",
    "# we have all combinations except for each shape we do not choose a certain color\n",
    "shapes = [Shapes.F, Shapes.T, Shapes.N, Shapes.P]\n",
    "colors = [Colors.BLUE, Colors.RED, Colors.GREEN, Colors.PURPLE]\n",
    "train_samples = []\n",
    "test_samples = []\n",
    "id_counter = 0\n",
    "for shape_idx, shape in enumerate(shapes):\n",
    "    for color_idx, color in enumerate(colors):\n",
    "        sample = {\"id\": id_counter}\n",
    "        if shape_idx == color_idx:\n",
    "            test_samples.append({**sample, **sample_train(color, shape)})\n",
    "        else:\n",
    "            train_samples.append({**sample, **sample_test(color, shape)})\n",
    "        id_counter = id_counter + 1\n",
    "\n",
    "import json\n",
    "\n",
    "with open(\"data/single/train.json\", \"w\") as f:\n",
    "    json.dump(train_samples, f)\n",
    "\n",
    "with open(\"data/single/test.json\", \"w\") as f:\n",
    "    json.dump(test_samples, f)"
   ],
   "metadata": {
    "collapsed": false,
    "pycharm": {
     "name": "#%%\n"
    }
   }
  }
 ],
 "metadata": {
  "kernelspec": {
   "display_name": "Python 3",
   "language": "python",
   "name": "python3"
  },
  "language_info": {
   "codemirror_mode": {
    "name": "ipython",
    "version": 2
   },
   "file_extension": ".py",
   "mimetype": "text/x-python",
   "name": "python",
   "nbconvert_exporter": "python",
   "pygments_lexer": "ipython2",
   "version": "2.7.6"
  }
 },
 "nbformat": 4,
 "nbformat_minor": 0
}
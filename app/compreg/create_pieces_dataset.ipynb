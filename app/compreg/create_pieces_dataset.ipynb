{
 "cells": [
  {
   "cell_type": "code",
   "execution_count": 13,
   "metadata": {
    "collapsed": true,
    "pycharm": {
     "name": "#%%\n"
    }
   },
   "outputs": [],
   "source": [
    "import json\n",
    "import os\n",
    "\n",
    "import matplotlib.pyplot as plt\n",
    "\n",
    "from model.pentomino import PieceConfig, RelPositions, Shapes, Colors, Board\n",
    "\n",
    "\n",
    "def sample_piece(color, shape):\n",
    "    target = PieceConfig(color, shape, RelPositions.CENTER)\n",
    "    board = Board(15, 15)  # we need at least size of 3 * 5\n",
    "    board.add_piece_from_config(target)\n",
    "    arr = board.to_rgb_array()\n",
    "    center = arr[5:10, 5:10]\n",
    "    return center\n",
    "\n",
    "\n",
    "def sample_image(split, color, shape):\n",
    "    filename = f\"{shape.value_name}_{color.value_name}.png\"\n",
    "    plt.axis(\"off\")\n",
    "    plt.imshow(sample_piece(color, shape))\n",
    "    plt.savefig(f\"data/single/{split}/{filename}\", bbox_inches='tight')\n",
    "    return filename"
   ]
  },
  {
   "cell_type": "code",
   "execution_count": 10,
   "metadata": {
    "pycharm": {
     "name": "#%%\n"
    }
   },
   "outputs": [
    {
     "name": "stdout",
     "output_type": "stream",
     "text": [
      "Shapes: 12 Colors: 8 Combinations: 96\n"
     ]
    }
   ],
   "source": [
    "shapes = list(Shapes)\n",
    "colors = list(Colors)\n",
    "print(f\"Shapes: {len(shapes)} Colors: {len(colors)} Combinations: {len(shapes) * len(colors)}\")"
   ]
  },
  {
   "cell_type": "code",
   "execution_count": 14,
   "metadata": {
    "pycharm": {
     "name": "#%%\n"
    }
   },
   "outputs": [
    {
     "data": {
      "image/png": "[encoded data removed]",
      "text/plain": [
       "<Figure size 432x288 with 1 Axes>"
      ]
     },
     "metadata": {
      "needs_background": "light"
     },
     "output_type": "display_data"
    }
   ],
   "source": [
    "# we have all combinations except for each shape we do not choose a certain color\n",
    "\n",
    "\"\"\"\n",
    "[\n",
    "  {\n",
    "    \"id\": 0,\n",
    "    \"color\": \"BLUE\",\n",
    "    \"shape\": \"F\",\n",
    "    \"image\": \"F_blue.png\"\n",
    "  }\n",
    "]\n",
    "\"\"\"\n",
    "counter = 0\n",
    "samples = {\n",
    "    \"train\": [],\n",
    "    \"val\": [],\n",
    "    \"test\": []\n",
    "}\n",
    "for split in samples:\n",
    "    os.mkdir(f\"data/single/{split}\")\n",
    "for shape_idx, shape in enumerate(shapes):\n",
    "    for color_idx, color in enumerate(colors):\n",
    "        if color_idx == (shape_idx % len(colors)):\n",
    "            split = \"test\"\n",
    "        elif color_idx == (shape_idx + 1 % len(colors)):\n",
    "            split = \"val\"\n",
    "        else:\n",
    "            split = \"train\"\n",
    "        filename = sample_image(split, color, shape)\n",
    "        samples[split].append({\n",
    "            \"id\": counter,\n",
    "            \"color\": color.value,\n",
    "            \"shape\": shape.value,\n",
    "            \"image\": filename\n",
    "        })\n",
    "        counter += 1\n",
    "\n",
    "for split in samples:\n",
    "    with open(f\"data/single/{split}.json\", \"w\") as f:\n",
    "        json.dump(samples[split], f)"
   ]
  }
 ],
 "metadata": {
  "kernelspec": {
   "display_name": "Python 3 (ipykernel)",
   "language": "python",
   "name": "python3"
  },
  "language_info": {
   "codemirror_mode": {
    "name": "ipython",
    "version": 3
   },
   "file_extension": ".py",
   "mimetype": "text/x-python",
   "name": "python",
   "nbconvert_exporter": "python",
   "pygments_lexer": "ipython3",
   "version": "3.8.10"
  }
 },
 "nbformat": 4,
 "nbformat_minor": 1
}

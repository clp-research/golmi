{
 "cells": [
  {
   "cell_type": "code",
   "execution_count": 1,
   "metadata": {},
   "outputs": [
    {
     "data": {
      "text/plain": [
       "['/project/remote/golmi-dynamatt',\n",
       " '/project/remote/golmi-dynamatt/app/compreg',\n",
       " '/usr/lib/python38.zip',\n",
       " '/usr/lib/python3.8',\n",
       " '/usr/lib/python3.8/lib-dynload',\n",
       " '',\n",
       " '/usr/local/lib/python3.8/dist-packages',\n",
       " '/usr/lib/python3/dist-packages']"
      ]
     },
     "execution_count": 1,
     "metadata": {},
     "output_type": "execute_result"
    }
   ],
   "source": [
    "%load_ext autoreload\n",
    "%autoreload 3\n",
    "\n",
    "import sys\n",
    "sys.path.insert(0, \"/project/remote/golmi-dynamatt\")\n",
    "sys.path"
   ]
  },
  {
   "cell_type": "code",
   "execution_count": 36,
   "metadata": {
    "pycharm": {
     "name": "#%%\n"
    }
   },
   "outputs": [],
   "source": [
    "import json\n",
    "import os\n",
    "\n",
    "import matplotlib.pyplot as plt\n",
    "\n",
    "from model.pentomino import PieceConfig, RelPositions, Shapes, Colors, Board\n",
    "\n",
    "data_dir = \"/data/compreg/sets/pieces\"\n",
    "\n",
    "def sample_piece(color, shape):\n",
    "    target = PieceConfig(color, shape, RelPositions.CENTER)\n",
    "    board = Board(15, 15)  # we need at least size of 3 * 5\n",
    "    board.add_piece_from_config(target)\n",
    "    arr = board.to_rgb_array()\n",
    "    center = arr[5:10, 5:10]\n",
    "    return center\n",
    "\n",
    "def to_image_name(color, shape):\n",
    "    return f\"{shape.value_name}_{color.value_name}.png\"\n",
    "\n",
    "def sample_image(color, shape):\n",
    "    filename = to_image_name(color, shape)\n",
    "    plt.axis(\"off\")\n",
    "    plt.imshow(sample_piece(color, shape))\n",
    "    plt.savefig(data_dir + f\"/{filename}\", bbox_inches='tight')\n",
    "    return filename"
   ]
  },
  {
   "cell_type": "code",
   "execution_count": 33,
   "metadata": {
    "pycharm": {
     "name": "#%%\n"
    }
   },
   "outputs": [
    {
     "name": "stdout",
     "output_type": "stream",
     "text": [
      "Shapes: 12 Colors: 8 Combinations: 96\n"
     ]
    }
   ],
   "source": [
    "shapes = list(Shapes)\n",
    "colors = list(Colors)\n",
    "num_colors = len(colors)\n",
    "num_shapes = len(shapes)\n",
    "num_target_looks = num_shapes * num_colors\n",
    "print(f\"Shapes: {num_shapes} Colors: {num_colors} Combinations: {num_target_looks}\")"
   ]
  },
  {
   "cell_type": "code",
   "execution_count": 34,
   "metadata": {},
   "outputs": [
    {
     "name": "stdout",
     "output_type": "stream",
     "text": [
      "Possible sets: 884736\n"
     ]
    }
   ],
   "source": [
    "# NOTE: Actually more sensible to store all possible combinations of pieces only once!\n",
    "# And then load them dynamically\n",
    "num_distractors = 2\n",
    "num_pieces = num_distractors + 1\n",
    "print(f\"Possible sets: {(num_target_looks)**(num_pieces)}\")"
   ]
  },
  {
   "cell_type": "code",
   "execution_count": 35,
   "metadata": {},
   "outputs": [
    {
     "name": "stdout",
     "output_type": "stream",
     "text": [
      "Possible comp. sets: 56448\n",
      "Possible val/test comp. sets: 7056\n",
      "Possible single comp. sets: 588\n"
     ]
    }
   ],
   "source": [
    "# Compositional set on \"Colors\"\n",
    "# All other distractors do NOT share the color, but at least one distractor shares the shape\n",
    "num_other_looks = num_shapes*(num_colors-1) # unshare the color, but allow all shapes\n",
    "num_share_looks = num_colors-1              # unshare the color, but shares the same shape as the target piece\n",
    "print(f\"Possible comp. sets: {num_targets * num_share_looks * num_other_looks**(num_distractors-1)}\")\n",
    "\n",
    "# Val/Test set on \"Colors\" (spare 1 combination of shape + color)\n",
    "print(f\"Possible val/test comp. sets: {12 * num_share_looks * num_other_looks**(num_distractors-1)}\")\n",
    "\n",
    "# Single piece set on \"Colors\" (1 combination of shape + color)\n",
    "print(f\"Possible single comp. sets: {1 * num_share_looks * num_other_looks**(num_distractors-1)}\")"
   ]
  },
  {
   "cell_type": "code",
   "execution_count": 37,
   "metadata": {
    "scrolled": true
   },
   "outputs": [
    {
     "data": {
      "image/png": "[encoded data removed]",
      "text/plain": [
       "<Figure size 432x288 with 1 Axes>"
      ]
     },
     "metadata": {
      "needs_background": "light"
     },
     "output_type": "display_data"
    }
   ],
   "source": [
    "# We create all piece images first\n",
    "# There are only 96 possible combinations (for now)\n",
    "for shape_idx, shape in enumerate(shapes):\n",
    "    for color_idx, color in enumerate(colors):\n",
    "        sample_image(color, shape)"
   ]
  },
  {
   "cell_type": "code",
   "execution_count": null,
   "metadata": {
    "pycharm": {
     "name": "#%%\n"
    }
   },
   "outputs": [],
   "source": [
    "\"\"\"\n",
    "The annotation structure: \n",
    "Note: We produce one sample for each order (although the model should get invariant towards this anyway),\n",
    "      but it seems easier to generate the dataset in this way (using for-loops) (for now)\n",
    "[\n",
    "  {\n",
    "    \"id\": 0,\n",
    "    \"task\": 0, # 0: use target color, 1: use target shape to discriminate\n",
    "    \"target\": {\n",
    "        \"color\": 2,\n",
    "        \"shape\": 5,\n",
    "        \"image\": \"F_blue.png\"\n",
    "    },\n",
    "    \"distractors\": [{\n",
    "        \"color\": 1,\n",
    "        \"shape\": 5,\n",
    "        \"image\": \"F_red.png\"\n",
    "    },{\n",
    "        \"color\": 2,\n",
    "        \"shape\": 9,\n",
    "        \"image\": \"V_blue.png\"\n",
    "    }]\n",
    "  }\n",
    "]\n",
    "\"\"\"\n",
    "counter = 0\n",
    "samples = {\n",
    "    \"train\": [],\n",
    "    \"val\": [],\n",
    "    \"test\": []\n",
    "}\n",
    "# Test first on \"single piece\" combs. (should be 588 ones)\n",
    "for shape_idx, shape in enumerate(shapes):\n",
    "    for color_idx, color in enumerate(colors):\n",
    "        if color_idx == (shape_idx % len(colors)):\n",
    "            split = \"test\"\n",
    "        elif color_idx == (shape_idx + 1 % len(colors)):\n",
    "            split = \"val\"\n",
    "        else:\n",
    "            split = \"train\"\n",
    "        filename = to_image_name(color, shape)\n",
    "        samples[split].append({\n",
    "            \"id\": counter,\n",
    "            \"color\": color.value,\n",
    "            \"shape\": shape.value,\n",
    "            \"image\": filename\n",
    "        })\n",
    "        counter += 1\n",
    "\n",
    "for split in samples:\n",
    "    with open(f\"data/single/{split}.json\", \"w\") as f:\n",
    "        json.dump(samples[split], f)"
   ]
  }
 ],
 "metadata": {
  "kernelspec": {
   "display_name": "Python 3 (ipykernel)",
   "language": "python",
   "name": "python3"
  },
  "language_info": {
   "codemirror_mode": {
    "name": "ipython",
    "version": 3
   },
   "file_extension": ".py",
   "mimetype": "text/x-python",
   "name": "python",
   "nbconvert_exporter": "python",
   "pygments_lexer": "ipython3",
   "version": "3.8.10"
  }
 },
 "nbformat": 4,
 "nbformat_minor": 1
}

{
 "cells": [
  {
   "cell_type": "code",
   "execution_count": 2,
   "metadata": {},
   "outputs": [
    {
     "name": "stdout",
     "output_type": "stream",
     "text": [
      "The autoreload extension is already loaded. To reload it, use:\n",
      "  %reload_ext autoreload\n"
     ]
    }
   ],
   "source": [
    "%load_ext autoreload\n",
    "%autoreload 2\n",
    "\n",
    "import sys\n",
    "sys.path.insert(0, \"/project/remote/golmi-dynamatt\")\n",
    "sys.path\n",
    "\n",
    "import json\n",
    "import os\n",
    "\n",
    "import matplotlib.pyplot as plt\n",
    "\n",
    "from model.pentomino import PieceConfig, RelPositions, Board\n",
    "\n",
    "def draw_piece_image(color, shape):\n",
    "    target = PieceConfig(color, shape, RelPositions.CENTER)\n",
    "    board = Board(15, 15)  # we need at least size of 3 * 5\n",
    "    board.add_piece_from_config(target)\n",
    "    arr = board.to_rgb_array()\n",
    "    center = arr[5:10, 5:10]\n",
    "    return center\n",
    "\n",
    "def to_piece_image_name(color, shape):\n",
    "    return f\"{shape.value_name}_{color.value_name}.png\"\n",
    "\n",
    "def save_piece_image(color, shape, target_dir):\n",
    "    filename = to_piece_image_name(color, shape)\n",
    "    plt.axis(\"off\")\n",
    "    plt.imshow(draw_piece_image(color, shape))\n",
    "    plt.savefig(target_dir + f\"/{filename}\", bbox_inches='tight')\n",
    "    return filename"
   ]
  },
  {
   "cell_type": "code",
   "execution_count": 3,
   "metadata": {
    "pycharm": {
     "name": "#%%\n"
    }
   },
   "outputs": [
    {
     "name": "stdout",
     "output_type": "stream",
     "text": [
      "Shapes: 12 Colors: 12 Combinations: 144\n"
     ]
    }
   ],
   "source": [
    "from model.pentomino import Shapes, Colors\n",
    "shapes = list(Shapes)\n",
    "colors = list(Colors)\n",
    "num_colors = len(colors)\n",
    "num_shapes = len(shapes)\n",
    "num_target_looks = num_shapes * num_colors\n",
    "print(f\"Shapes: {num_shapes} Colors: {num_colors} Combinations: {num_target_looks}\")"
   ]
  },
  {
   "cell_type": "code",
   "execution_count": 4,
   "metadata": {},
   "outputs": [
    {
     "name": "stdout",
     "output_type": "stream",
     "text": [
      "Possible sets: 2985984\n"
     ]
    }
   ],
   "source": [
    "# NOTE: Actually more sensible to store all possible combinations of pieces only once!\n",
    "# And then load them dynamically\n",
    "num_distractors = 2\n",
    "num_pieces = num_distractors + 1\n",
    "print(f\"Possible sets: {(num_target_looks)**(num_pieces)}\")"
   ]
  },
  {
   "cell_type": "code",
   "execution_count": 5,
   "metadata": {},
   "outputs": [
    {
     "name": "stdout",
     "output_type": "stream",
     "text": [
      "====== COLORS ========\n",
      "Other looks: 132\n",
      "Share looks: 11\n",
      "Possible val/test comp. sets with 2 distractors: 17424\n",
      "Possible single comp. sets with 2 distractors: 1452\n",
      "All possible sets with 2 distractors: 209088\n"
     ]
    }
   ],
   "source": [
    "# Compositional set on \"Colors\"\n",
    "print(\"====== COLORS ========\")\n",
    "# All other distractors do NOT share the color, but at least one distractor shares the shape\n",
    "num_other_looks = num_shapes*(num_colors-1) # unshare the color, but allow all shapes\n",
    "num_share_looks = num_colors-1              # unshare the color, but shares the same shape as the target piece\n",
    "print(f\"Other looks: {num_other_looks}\")\n",
    "print(f\"Share looks: {num_share_looks}\")\n",
    "\n",
    "num_sets = num_share_looks * num_other_looks**(num_distractors-1)\n",
    "\n",
    "# Val/Test set on \"Colors\" (spare 1 combination of shape + color)\n",
    "print(f\"Possible val/test comp. sets with {num_distractors} distractors: {1 * num_shapes * num_sets}\")\n",
    "\n",
    "# Single piece set on \"Colors\" (1 combination of shape + color)\n",
    "print(f\"Possible single comp. sets with {num_distractors} distractors: {1 * num_sets}\")\n",
    "\n",
    "print(f\"All possible sets with {num_distractors} distractors: {num_target_looks * num_sets}\")"
   ]
  },
  {
   "cell_type": "code",
   "execution_count": 6,
   "metadata": {},
   "outputs": [
    {
     "name": "stdout",
     "output_type": "stream",
     "text": [
      "====== SHAPES ========\n",
      "Other looks: 132\n",
      "Share looks: 11\n",
      "Possible val/test comp. sets with 2 distractors: 17424\n",
      "Possible single comp. sets with 2 distractors: 1452\n",
      "All possible sets with 2 distractors: 209088\n"
     ]
    }
   ],
   "source": [
    "# Compositional set on \"Shapes\"\n",
    "print(\"====== SHAPES ========\")\n",
    "# All other distractors do NOT share the shape, but at least one distractor shares the color\n",
    "num_other_looks = num_colors*(num_shapes-1) # unshare the shape, but allow all colors\n",
    "num_share_looks = num_shapes-1              # unshare the shape, but shares the same color as the target piece\n",
    "print(f\"Other looks: {num_other_looks}\")\n",
    "print( f\"Share looks: {num_share_looks}\")\n",
    "\n",
    "num_sets = num_share_looks * num_other_looks**(num_distractors-1)\n",
    "\n",
    "# Val/Test set on \"Colors\" (spare 1 combination of shape + color)\n",
    "print(f\"Possible val/test comp. sets with {num_distractors} distractors: {1 * num_shapes * num_sets}\")\n",
    "\n",
    "# Single piece set on \"Colors\" (1 combination of shape + color)\n",
    "print(f\"Possible single comp. sets with {num_distractors} distractors: {1 * num_sets}\")\n",
    "\n",
    "print(f\"All possible sets with {num_distractors} distractors: {num_target_looks * num_sets}\")"
   ]
  },
  {
   "cell_type": "code",
   "execution_count": 7,
   "metadata": {
    "scrolled": true
   },
   "outputs": [
    {
     "name": "stdout",
     "output_type": "stream",
     "text": [
      "Pieces: 144\n"
     ]
    },
    {
     "data": {
      "text/plain": [
       "['F_purple.png', 'T_yellow.png', 'I_pink.png', 'V_purple.png', 'I_blue.png']"
      ]
     },
     "execution_count": 7,
     "metadata": {},
     "output_type": "execute_result"
    },
    {
     "data": {
      "image/png": "[encoded data removed]",
      "text/plain": [
       "<Figure size 432x288 with 1 Axes>"
      ]
     },
     "metadata": {
      "needs_background": "light"
     },
     "output_type": "display_data"
    }
   ],
   "source": [
    "# We create all piece images first\n",
    "# There are only 96 possible combinations (for now)\n",
    "save_all_pieces = True\n",
    "data_images_dir = \"/data/compreg/sets/pieces\"\n",
    "if save_all_pieces:  \n",
    "    for shape_idx, shape in enumerate(shapes):\n",
    "        for color_idx, color in enumerate(colors):\n",
    "            save_piece_image(color, shape, data_images_dir)\n",
    "print(\"Pieces:\", len(os.listdir(data_images_dir)))\n",
    "os.listdir(data_images_dir)[:5]"
   ]
  },
  {
   "cell_type": "code",
   "execution_count": 13,
   "metadata": {},
   "outputs": [
    {
     "data": {
      "text/plain": [
       "12"
      ]
     },
     "execution_count": 13,
     "metadata": {},
     "output_type": "execute_result"
    }
   ],
   "source": [
    "f_files = [fn for fn in os.listdir(data_images_dir) if fn[0] == \"F\"]\n",
    "len(f_files)"
   ]
  },
  {
   "cell_type": "code",
   "execution_count": 15,
   "metadata": {
    "scrolled": true
   },
   "outputs": [
    {
     "data": {
      "image/png": "[encoded data removed]",
      "text/plain": [
       "<Figure size 432x288 with 1 Axes>"
      ]
     },
     "metadata": {
      "needs_background": "light"
     },
     "output_type": "display_data"
    },
    {
     "data": {
      "image/png": "[encoded data removed]",
      "text/plain": [
       "<Figure size 432x288 with 1 Axes>"
      ]
     },
     "metadata": {
      "needs_background": "light"
     },
     "output_type": "display_data"
    },
    {
     "data": {
      "image/png": "[encoded data removed]",
      "text/plain": [
       "<Figure size 432x288 with 1 Axes>"
      ]
     },
     "metadata": {
      "needs_background": "light"
     },
     "output_type": "display_data"
    },
    {
     "data": {
      "image/png": "[encoded data removed]",
      "text/plain": [
       "<Figure size 432x288 with 1 Axes>"
      ]
     },
     "metadata": {
      "needs_background": "light"
     },
     "output_type": "display_data"
    },
    {
     "data": {
      "image/png": "[encoded data removed]",
      "text/plain": [
       "<Figure size 432x288 with 1 Axes>"
      ]
     },
     "metadata": {
      "needs_background": "light"
     },
     "output_type": "display_data"
    },
    {
     "data": {
      "image/png": "[encoded data removed]",
      "text/plain": [
       "<Figure size 432x288 with 1 Axes>"
      ]
     },
     "metadata": {
      "needs_background": "light"
     },
     "output_type": "display_data"
    },
    {
     "data": {
      "image/png": "[encoded data removed]",
      "text/plain": [
       "<Figure size 432x288 with 1 Axes>"
      ]
     },
     "metadata": {
      "needs_background": "light"
     },
     "output_type": "display_data"
    },
    {
     "data": {
      "image/png": "[encoded data removed]",
      "text/plain": [
       "<Figure size 432x288 with 1 Axes>"
      ]
     },
     "metadata": {
      "needs_background": "light"
     },
     "output_type": "display_data"
    },
    {
     "data": {
      "image/png": "[encoded data removed]",
      "text/plain": [
       "<Figure size 432x288 with 1 Axes>"
      ]
     },
     "metadata": {
      "needs_background": "light"
     },
     "output_type": "display_data"
    },
    {
     "data": {
      "image/png": "[encoded data removed]",
      "text/plain": [
       "<Figure size 432x288 with 1 Axes>"
      ]
     },
     "metadata": {
      "needs_background": "light"
     },
     "output_type": "display_data"
    },
    {
     "data": {
      "image/png": "[encoded data removed]",
      "text/plain": [
       "<Figure size 432x288 with 1 Axes>"
      ]
     },
     "metadata": {
      "needs_background": "light"
     },
     "output_type": "display_data"
    },
    {
     "data": {
      "image/png": "[encoded data removed]",
      "text/plain": [
       "<Figure size 432x288 with 1 Axes>"
      ]
     },
     "metadata": {
      "needs_background": "light"
     },
     "output_type": "display_data"
    }
   ],
   "source": [
    "from PIL import Image\n",
    "import numpy as np\n",
    "\n",
    "for file in f_files:\n",
    "    with Image.open(data_images_dir + \"/\" + file) as im:\n",
    "        plt.figure()\n",
    "        plt.axis(\"off\")\n",
    "        plt.imshow(np.array(im))"
   ]
  },
  {
   "cell_type": "markdown",
   "metadata": {},
   "source": [
    "# Create meta.json\n",
    "\n",
    "We map label, colors, shapes etc. to integers"
   ]
  },
  {
   "cell_type": "code",
   "execution_count": 17,
   "metadata": {},
   "outputs": [
    {
     "name": "stdout",
     "output_type": "stream",
     "text": [
      "{'color_to_idx': {'BLUE': 4, 'BROWN': 7, 'CYAN': 5, 'GREEN': 3, 'GREY': 8, 'NAVY': 11, 'OLIVE': 10, 'ORANGE': 1, 'PINK': 9, 'PURPLE': 6, 'RED': 0, 'YELLOW': 2}, 'idx_to_color': {'0': 'RED', '1': 'ORANGE', '2': 'YELLOW', '3': 'GREEN', '4': 'BLUE', '5': 'CYAN', '6': 'PURPLE', '7': 'BROWN', '8': 'GREY', '9': 'PINK', '10': 'OLIVE', '11': 'NAVY'}, 'idx_to_props': {'0': 'COLOR', '1': 'SHAPE'}, 'idx_to_shape': {'0': 'F', '1': 'I', '2': 'L', '3': 'N', '4': 'P', '5': 'T', '6': 'U', '7': 'V', '8': 'W', '9': 'X', '10': 'Y', '11': 'Z'}, 'props_to_idx': {'COLOR': 0, 'SHAPE': 1}, 'shape_to_idx': {'F': 0, 'I': 1, 'L': 2, 'N': 3, 'P': 4, 'T': 5, 'U': 6, 'V': 7, 'W': 8, 'X': 9, 'Y': 10, 'Z': 11}}\n"
     ]
    }
   ],
   "source": [
    "from model.pentomino import PropertyNames\n",
    "data_top_dir = \"/data/compreg/sets\"\n",
    "save_meta = False\n",
    "uniq_props = [PropertyNames.COLOR, PropertyNames.SHAPE]\n",
    "if save_meta:\n",
    "    metadata = {\n",
    "        \"shape_to_idx\": dict(),\n",
    "        \"idx_to_shape\": dict(),\n",
    "        \"color_to_idx\": dict(),\n",
    "        \"idx_to_color\": dict(),\n",
    "        \"props_to_idx\": dict(),\n",
    "        \"idx_to_props\": dict()\n",
    "    }\n",
    "    for prop_idx, prop in enumerate(shapes):\n",
    "        metadata[\"shape_to_idx\"][prop.name] = prop_idx\n",
    "        metadata[\"idx_to_shape\"][prop_idx] = prop.name\n",
    "        \n",
    "    for prop_idx, prop in enumerate(colors):\n",
    "        metadata[\"color_to_idx\"][prop.name] = prop_idx\n",
    "        metadata[\"idx_to_color\"][prop_idx] = prop.name\n",
    "        \n",
    "    for prop_idx, prop in enumerate(uniq_props):\n",
    "        metadata[\"props_to_idx\"][prop.name] = prop_idx\n",
    "        metadata[\"idx_to_props\"][prop_idx] = prop.name\n",
    "        \n",
    "    with open(data_top_dir + \"/meta.json\", \"w\") as f:\n",
    "        json.dump(metadata, f, indent=4, sort_keys=True)\n",
    "else:\n",
    "    with open(data_top_dir + \"/meta.json\") as f:\n",
    "        metadata = json.load(f)\n",
    "print(metadata)"
   ]
  },
  {
   "cell_type": "code",
   "execution_count": null,
   "metadata": {},
   "outputs": [],
   "source": [
    "list(Colors)"
   ]
  },
  {
   "cell_type": "code",
   "execution_count": null,
   "metadata": {},
   "outputs": [],
   "source": [
    "# We map by enum name because this can automatically be mapped back for example:\n",
    "Colors[\"RED\"] # note the brackets, no parenthesis!"
   ]
  },
  {
   "cell_type": "markdown",
   "metadata": {},
   "source": [
    "# The annotation structure\n",
    "\n",
    "```\n",
    "[\n",
    "  {\n",
    "    \"id\": 0,\n",
    "    \"unique_prop\": 0, # 0: use target color, 1: use target shape to discriminate\n",
    "    \"target\": {\n",
    "        \"color\": 2,\n",
    "        \"shape\": 5,\n",
    "        \"image\": \"F_blue.png\"\n",
    "    },\n",
    "    \"distractors\": [{\n",
    "        \"color\": 1,\n",
    "        \"shape\": 5,\n",
    "        \"image\": \"F_red.png\"\n",
    "    },{\n",
    "        \"color\": 2,\n",
    "        \"shape\": 9,\n",
    "        \"image\": \"V_blue.png\"\n",
    "    }]\n",
    "  }\n",
    "]\n",
    "```\n",
    "\n",
    "Note: We produce one sample for each order (although the model should get invariant towards this anyway),\n",
    "      but it seems easier to generate the dataset in this way (using for-loops) (for now)"
   ]
  },
  {
   "cell_type": "code",
   "execution_count": 18,
   "metadata": {},
   "outputs": [],
   "source": [
    "from model.pentomino import create_all_distractor_configs, PropertyNames"
   ]
  },
  {
   "cell_type": "code",
   "execution_count": 19,
   "metadata": {},
   "outputs": [
    {
     "name": "stdout",
     "output_type": "stream",
     "text": [
      "Scenes:  1452\n"
     ]
    }
   ],
   "source": [
    "# Test first on \"single piece\" combs. (should be 588 ones)\n",
    "all_configs = create_all_distractor_configs(PieceConfig(Colors.BLUE, Shapes.T, RelPositions.CENTER), \n",
    "                                           unique_props={PropertyNames.COLOR},\n",
    "                                           num_distractors=2,\n",
    "                                           prop_values={\n",
    "                                               PropertyNames.COLOR: list(Colors),\n",
    "                                               PropertyNames.SHAPE: list(Shapes)\n",
    "                                           })\n",
    "print(\"Scenes: \", len(all_configs))"
   ]
  },
  {
   "cell_type": "code",
   "execution_count": 40,
   "metadata": {
    "pycharm": {
     "name": "#%%\n"
    }
   },
   "outputs": [],
   "source": [
    "\"\"\"\n",
    "Create for each piece combinations of color and shape, but leave out a combination for val/test. \n",
    "The hold-out combinations are never seen during training. Still, every color and shape is seen.\n",
    "\n",
    "We produce the similiar amount of \"mention the color\" and \"mention the shape\" tasks for a combination. \n",
    "The meta-task is to find the unique property and extract that value from the target piece.\n",
    "\"\"\"\n",
    "from tqdm.notebook import tqdm\n",
    "from model.pentomino import create_all_distractor_configs, PropertyNames, PieceConfig, Shapes, Colors\n",
    "\n",
    "def generate_all(dry_run=False):\n",
    "    uniq_props = [PropertyNames.COLOR, PropertyNames.SHAPE]\n",
    "    num_distractors = 2\n",
    "    selected_shapes = list(Shapes)\n",
    "    selected_colors = list(Colors)\n",
    "    \n",
    "    total_count = 2 * 209088\n",
    "    couter_loop=tqdm(range(total_count))\n",
    "    \n",
    "    counter = 0\n",
    "    samples = {\n",
    "        \"train\": [],\n",
    "        \"val\": [],\n",
    "        \"test\": []\n",
    "    }\n",
    "    for shape_idx, shape in enumerate(selected_shapes):\n",
    "        for color_idx, color in enumerate(selected_colors):\n",
    "            if color_idx == (shape_idx % len(selected_colors)):\n",
    "                split = \"test\"\n",
    "            elif color_idx == (shape_idx + 1 % len(selected_colors)):\n",
    "                split = \"val\"\n",
    "            else:\n",
    "                split = \"train\"\n",
    "\n",
    "            for uniq_prop_idx, uniq_prop in enumerate(uniq_props):\n",
    "                target_piece = PieceConfig(color=color, shape=shape)\n",
    "                all_distractor_configs = create_all_distractor_configs(\n",
    "                    target_piece, unique_props={uniq_prop},\n",
    "                    num_distractors=num_distractors,\n",
    "                    prop_values={PropertyNames.COLOR: selected_colors, PropertyNames.SHAPE: selected_shapes })\n",
    "                for distractor_configs in all_distractor_configs:\n",
    "                    samples[split].append({\n",
    "                        \"id\": counter,\n",
    "                        \"unique_prop\": uniq_prop.name,\n",
    "                        \"target\": {\n",
    "                               \"color\": color.name,\n",
    "                               \"shape\": shape.name,\n",
    "                               \"image\": to_piece_image_name(color, shape) },\n",
    "                        \"distractors\" : [{\n",
    "                               \"color\": distractor[PropertyNames.COLOR].name,\n",
    "                               \"shape\": distractor[PropertyNames.SHAPE].name,\n",
    "                               \"image\": to_piece_image_name(distractor[PropertyNames.COLOR], \n",
    "                                                            distractor[PropertyNames.SHAPE])} \n",
    "                            for distractor in distractor_configs]\n",
    "                    })\n",
    "                    counter += 1\n",
    "                    couter_loop.update()\n",
    "                    couter_loop.refresh()\n",
    "                    if dry_run and counter == 10:\n",
    "                        return samples\n",
    "    print(\"Finished generating...\")\n",
    "    return samples"
   ]
  },
  {
   "cell_type": "code",
   "execution_count": 41,
   "metadata": {},
   "outputs": [
    {
     "data": {
      "application/vnd.jupyter.widget-view+json": {
       "model_id": "da129531499941128fdf95716722f3bb",
       "version_major": 2,
       "version_minor": 0
      },
      "text/plain": [
       "  0%|          | 0/418176 [00:00<?, ?it/s]"
      ]
     },
     "metadata": {},
     "output_type": "display_data"
    }
   ],
   "source": [
    "samples = generate_all()"
   ]
  },
  {
   "cell_type": "code",
   "execution_count": 42,
   "metadata": {},
   "outputs": [
    {
     "name": "stdout",
     "output_type": "stream",
     "text": [
      "418176 418176\n"
     ]
    }
   ],
   "source": [
    "print(sum([len(samples[split]) for split in samples]), 2 * 209088)"
   ]
  },
  {
   "cell_type": "code",
   "execution_count": 43,
   "metadata": {},
   "outputs": [
    {
     "name": "stdout",
     "output_type": "stream",
     "text": [
      "351384\n",
      "31944\n",
      "34848\n"
     ]
    }
   ],
   "source": [
    "for split in samples:\n",
    "    print(len(samples[split]))"
   ]
  },
  {
   "cell_type": "code",
   "execution_count": 44,
   "metadata": {},
   "outputs": [
    {
     "data": {
      "text/plain": [
       "{'id': 5808,\n",
       " 'unique_prop': 'COLOR',\n",
       " 'target': {'color': 'YELLOW', 'shape': 'F', 'image': 'F_yellow.png'},\n",
       " 'distractors': [{'color': 'RED', 'shape': 'F', 'image': 'F_red.png'},\n",
       "  {'color': 'RED', 'shape': 'F', 'image': 'F_red.png'}]}"
      ]
     },
     "execution_count": 44,
     "metadata": {},
     "output_type": "execute_result"
    }
   ],
   "source": [
    "samples[\"train\"][0]"
   ]
  },
  {
   "cell_type": "code",
   "execution_count": 45,
   "metadata": {},
   "outputs": [],
   "source": [
    "for split in samples:\n",
    "    with open(f\"/data/compreg/sets/{num_distractors}dits/{split}.json\", \"w\") as f:\n",
    "        json.dump(samples[split], f)"
   ]
  }
 ],
 "metadata": {
  "kernelspec": {
   "display_name": "Python 3 (ipykernel)",
   "language": "python",
   "name": "python3"
  },
  "language_info": {
   "codemirror_mode": {
    "name": "ipython",
    "version": 3
   },
   "file_extension": ".py",
   "mimetype": "text/x-python",
   "name": "python",
   "nbconvert_exporter": "python",
   "pygments_lexer": "ipython3",
   "version": "3.8.10"
  }
 },
 "nbformat": 4,
 "nbformat_minor": 1
}
